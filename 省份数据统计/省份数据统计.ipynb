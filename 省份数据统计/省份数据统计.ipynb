{
  "nbformat": 4,
  "nbformat_minor": 0,
  "metadata": {
    "colab": {
      "name": "省份数据统计.ipynb",
      "provenance": [],
      "collapsed_sections": [],
      "authorship_tag": "ABX9TyPU70O1KkH/JiuKOiMgYJhk",
      "include_colab_link": true
    },
    "kernelspec": {
      "name": "python3",
      "display_name": "Python 3"
    },
    "language_info": {
      "name": "python"
    }
  },
  "cells": [
    {
      "cell_type": "markdown",
      "metadata": {
        "id": "view-in-github",
        "colab_type": "text"
      },
      "source": [
        "<a href=\"https://colab.research.google.com/github/mallow5359/Mallow-s-Toolbox/blob/main/%E7%9C%81%E4%BB%BD%E6%95%B0%E6%8D%AE%E7%BB%9F%E8%AE%A1/%E7%9C%81%E4%BB%BD%E6%95%B0%E6%8D%AE%E7%BB%9F%E8%AE%A1.ipynb\" target=\"_parent\"><img src=\"https://colab.research.google.com/assets/colab-badge.svg\" alt=\"Open In Colab\"/></a>"
      ]
    },
    {
      "cell_type": "code",
      "execution_count": null,
      "metadata": {
        "id": "w6aSyQuBdAke",
        "colab": {
          "base_uri": "https://localhost:8080/"
        },
        "outputId": "ae116a32-49d1-4213-80f0-bc3d31a154a4"
      },
      "outputs": [
        {
          "output_type": "stream",
          "name": "stdout",
          "text": [
            "Drive already mounted at /content/drive/; to attempt to forcibly remount, call drive.mount(\"/content/drive/\", force_remount=True).\n"
          ]
        }
      ],
      "source": [
        "import xlrd\n",
        "from openpyxl import Workbook\n",
        "from collections import Counter\n",
        "import re\n",
        "\n",
        "# 挂载谷歌云盘\n",
        "from google.colab import drive\n",
        "drive.mount('/content/drive/')\n",
        "\n",
        "# 打开文件\n",
        "ExcelFile = xlrd.open_workbook('/content/drive/MyDrive/Colab/省份数据统计/全国地方登记社会组织-至2020年8月16日.xlsx')\n",
        "sheet = ExcelFile.sheet_by_index(0)\n",
        "CodeFile = xlrd.open_workbook('/content/drive/MyDrive/Colab/省份数据统计/行政区划代码2021.xlsx')\n",
        "CodeSheet = CodeFile.sheet_by_index(0)"
      ]
    },
    {
      "cell_type": "code",
      "source": [
        "# 读取社会统一信用代码\n",
        "name = sheet.col_values(0)\n",
        "code = sheet.col_values(1)\n",
        "\n",
        "# 删除第一个元素（即\"统一社会信用代码\"这个标题）\n",
        "del code[0]\n",
        "\n",
        "# 读取区划代码\n",
        "code2021_code = CodeSheet.col_values(0)\n",
        "code2021_city = CodeSheet.col_values(1)\n",
        "assert len(code2021_code) == len(code2021_city)\n",
        "\n",
        "# 区划代码原本是floatfloat，转换成int再转换成str\n",
        "for i in range(len(code2021_code)):\n",
        "  code2021_code[i] = str(int(code2021_code[i]))\n",
        "\n",
        "# 提取省份和城市的区划代码并汇总成字典\n",
        "code_province = {}\n",
        "code_city = {}\n",
        "for i in range(len(code2021_code)):\n",
        "  if code2021_code[i][2:6] == '0000':\n",
        "    code_province.setdefault(code2021_code[i][0:2], code2021_city[i])\n",
        "  if code2021_code[i][4:6] == '00':\n",
        "    code_city.setdefault(code2021_code[i][0:4], code2021_city[i])\n",
        "  code_province.update({'10':'国家直属单位', '66':'新疆建设兵团'})\n",
        "\n",
        "counter_province = Counter()\n",
        "counter_city = Counter()\n",
        "\n",
        "invalid_data_count = 0\n",
        "find_chinese = re.compile(r'[\\u4e00-\\u9fa5]+')\n",
        "find_point = re.compile(r'[/.]+')\n",
        "for i in code:\n",
        "  if  find_point.findall(str(i)) != []:\n",
        "    i = str(int(i))\n",
        "  else:\n",
        "    i = str(i)\n",
        "  if find_chinese.findall(i) == []:\n",
        "    counter_province[i[2:4]] += 1\n",
        "    counter_city[i[2:6]] += 1\n",
        "  else:\n",
        "    invalid_data_count += 1\n",
        "assert sum(counter_province.values()) == sum(counter_city.values()) == len(code) - invalid_data_count\n",
        "\n",
        "for i in code_province.keys(): \n",
        "  print(code_province.get(i), counter_province.get(i[0:2]))\n",
        "\n",
        "for i in code_city.keys():\n",
        "  print(code_city.get(i), counter_city.get(i[0:4]))"
      ],
      "metadata": {
        "id": "lpkrVn14AyAY"
      },
      "execution_count": null,
      "outputs": []
    },
    {
      "cell_type": "code",
      "source": [
        "excel_output = Workbook()\n",
        "sheet1 = excel_output.create_sheet('Sheet1', 0)\n",
        "sheet1.cell(row=1, column=1).value = '省级分类统计'\n",
        "count = 1\n",
        "for i in code_province.keys():\n",
        "  count += 1\n",
        "  sheet1.cell(row=count, column=1).value = code_province.get(i)\n",
        "  sheet1.cell(row=count, column=2).value = counter_province.get(i[0:2])\n",
        "sheet1.cell(row=len(code_province.keys())+2, column=1).value = '市级分类统计（包含省级直属）'\n",
        "count += 1\n",
        "for i in code_city.keys():\n",
        "  count += 1\n",
        "  sheet1.cell(row=count, column=1).value = code_city.get(i)\n",
        "  sheet1.cell(row=count, column=2).value = counter_city.get(i[0:4])\n",
        "excel_output.save('/content/drive/MyDrive/Colab/省份数据统计/统计结果.xlsx')"
      ],
      "metadata": {
        "id": "Y4fTF1EWc0FF"
      },
      "execution_count": null,
      "outputs": []
    },
    {
      "cell_type": "code",
      "source": [
        "find_point = re.compile(r'[/.]+')\n",
        "\n",
        "count = 0\n",
        "for i in code:\n",
        "  count += 1\n",
        "  if  find_point.findall(str(i)) != []:\n",
        "    i = str(int(i))\n",
        "  else:\n",
        "    i = str(i)\n",
        "  '''flag = 0\n",
        "  for j in code_province.keys():\n",
        "    if i[2:4] == j:\n",
        "      flag = 1\n",
        "  if flag == 0:\n",
        "    print('province_error:', count+ 1, i, name[count - 1])'''\n",
        "  flag = 0\n",
        "  for k in code_city.keys():\n",
        "    if i[2:6] == k or i[2:4] == '11' or i[2:4] == '12' or i[2:4] == '31' or i[2:4] == '50' or i[2:4] == '10' or i[2:4] == '66':\n",
        "      flag = 1\n",
        "  if flag == 0:\n",
        "    print('city_error:', count + 1, i, name[count])\n"
      ],
      "metadata": {
        "id": "0M5kY-KbH2Zm"
      },
      "execution_count": null,
      "outputs": []
    }
  ]
}